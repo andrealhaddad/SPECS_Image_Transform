{
 "cells": [
  {
   "cell_type": "markdown",
   "source": [
    "## SPECS image correction\n"
   ],
   "metadata": {
    "collapsed": false
   }
  },
  {
   "cell_type": "code",
   "execution_count": 6,
   "outputs": [],
   "source": [
    "import numpy as np, matplotlib.pyplot as plt, cv2, os\n"
   ],
   "metadata": {
    "collapsed": false,
    "pycharm": {
     "name": "#%%\n"
    }
   }
  },
  {
   "cell_type": "markdown",
   "source": [
    "### Reading the file into an array\n",
    "\n",
    "The sp2 files should be stored in a folder called \"data\" within the project folder."
   ],
   "metadata": {
    "collapsed": false
   }
  },
  {
   "cell_type": "code",
   "execution_count": 7,
   "outputs": [],
   "source": [
    "filename = \"MAM.sp2\"\n",
    "\n",
    "#Optional folder to save transformed pictures:\n",
    "#try:\n",
    "#    os.mkdir(filename[:-4])\n",
    "#except: print(\"Folder already exists\")\n",
    "\n",
    "with open(\"data/\"+filename, \"r\") as sp2_file:\n",
    "    sp2_list = sp2_file.readlines()\n",
    "\n",
    "    corrected_array = np.array(sp2_list[39:307239]) #The corrected image reads first\n",
    "    raw_array = np.array(sp2_list[307241:])\n",
    "\n",
    "#The pixel values need to be of type float\n",
    "raw_array = raw_array.astype(np.float32)\n",
    "corrected_array = corrected_array.astype(np.float32)\n",
    "\n",
    "#The arrays need to be reshaped to 480 rows by 640 columns\n",
    "raw_array.shape = (raw_array.size//640, 640)\n",
    "corrected_array.shape = (corrected_array.size//640, 640)\n"
   ],
   "metadata": {
    "collapsed": false,
    "pycharm": {
     "name": "#%%\n"
    }
   }
  },
  {
   "cell_type": "code",
   "execution_count": 8,
   "outputs": [],
   "source": [
    "#Create a dictionary with transformation variables (from line 10 to 27) listed under \"Transformation\" in the sp2 file as type np.float32\n",
    "range_list = [10, 11, 12, 15, 16, 23, 25, 26]\n",
    "t_vars = {}\n",
    "for i in range_list:\n",
    "    current_line = {sp2_list[i][2:sp2_list[i].find(\" \", 3)] : np.float32(sp2_list[i][23:sp2_list[i].find(\" \", 23)])}\n",
    "    t_vars.update(current_line)\n",
    "\n",
    "multi_values = {\n",
    "    \"E_range_lower\" : np.float32(sp2_list[13][23:sp2_list[13].find(\"#\", 23)].split(\" \")[0]),\n",
    "    \"E-range_upper\" : np.float32(sp2_list[13][23:sp2_list[13].find(\"#\", 23)].split(\" \")[1]),\n",
    "    \"a_range_lower\" : np.float32(sp2_list[14][23:sp2_list[14].find(\"#\", 23)].split(\" \")[0]),\n",
    "    \"a_range_upper\" : np.float32(sp2_list[14][23:sp2_list[14].find(\"#\", 23)].split(\" \")[1]),\n",
    "    \"e_shift_1\"     : np.float32(sp2_list[17][23:sp2_list[17].find(\"#\", 23)].split(\" \")[0]),\n",
    "    \"e_shift_2\"     : np.float32(sp2_list[17][23:sp2_list[17].find(\"#\", 23)].split(\" \")[1]),\n",
    "    \"e_shift_3\"     : np.float32(sp2_list[17][23:sp2_list[17].find(\"#\", 23)].split(\" \")[2]),\n",
    "    \"Da1_1\"         : np.float32(sp2_list[18][23:sp2_list[18].find(\"#\", 23)].split(\" \")[0]),\n",
    "    \"Da1_2\"         : np.float32(sp2_list[18][23:sp2_list[18].find(\"#\", 23)].split(\" \")[1]),\n",
    "    \"Da1_3\"         : np.float32(sp2_list[18][23:sp2_list[18].find(\"#\", 23)].split(\" \")[2]),\n",
    "    \"Da3_1\"         : np.float32(sp2_list[19][23:sp2_list[19].find(\"#\", 23)].split(\" \")[0]),\n",
    "    \"Da3_2\"         : np.float32(sp2_list[19][23:sp2_list[19].find(\"#\", 23)].split(\" \")[1]),\n",
    "    \"Da3_3\"         : np.float32(sp2_list[19][23:sp2_list[19].find(\"#\", 23)].split(\" \")[2]),\n",
    "    \"Da5_1\"         : np.float32(sp2_list[20][23:sp2_list[20].find(\"#\", 23)].split(\" \")[0]),\n",
    "    \"Da5_2\"         : np.float32(sp2_list[20][23:sp2_list[20].find(\"#\", 23)].split(\" \")[1]),\n",
    "    \"Da5_3\"         : np.float32(sp2_list[20][23:sp2_list[20].find(\"#\", 23)].split(\" \")[2]),\n",
    "    \"Da7_1\"         : np.float32(sp2_list[21][23:sp2_list[21].find(\"#\", 23)].split(\" \")[0]),\n",
    "    \"Da7_2\"         : np.float32(sp2_list[21][23:sp2_list[21].find(\"#\", 23)].split(\" \")[1]),\n",
    "    \"Da7_3\"         : np.float32(sp2_list[21][23:sp2_list[21].find(\"#\", 23)].split(\" \")[2]),\n",
    "    \"pixel_size_x\"  : np.float32(sp2_list[22][23:sp2_list[22].find(\"#\", 23)].split(\" \")[0]),\n",
    "    \"pixel_size_y\"  : np.float32(sp2_list[22][23:sp2_list[22].find(\"#\", 23)].split(\" \")[1])\n",
    "    }\n",
    "\n",
    "t_vars.update(multi_values)\n"
   ],
   "metadata": {
    "collapsed": false,
    "pycharm": {
     "name": "#%%\n"
    }
   }
  },
  {
   "cell_type": "code",
   "execution_count": 10,
   "outputs": [],
   "source": [
    "#Save the arrays and dictionary into np file\n",
    "\n",
    "arrays_and_dict = [t_vars, raw_array, corrected_array]\n",
    "np.save(\"data/\"+filename[:-4], arrays_and_dict)"
   ],
   "metadata": {
    "collapsed": false,
    "pycharm": {
     "name": "#%%\n"
    }
   }
  }
 ],
 "metadata": {
  "kernelspec": {
   "display_name": "Python 3",
   "language": "python",
   "name": "python3"
  },
  "language_info": {
   "codemirror_mode": {
    "name": "ipython",
    "version": 2
   },
   "file_extension": ".py",
   "mimetype": "text/x-python",
   "name": "python",
   "nbconvert_exporter": "python",
   "pygments_lexer": "ipython2",
   "version": "2.7.6"
  }
 },
 "nbformat": 4,
 "nbformat_minor": 0
}